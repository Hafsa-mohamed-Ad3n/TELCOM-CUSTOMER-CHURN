{
  "nbformat": 4,
  "nbformat_minor": 0,
  "metadata": {
    "colab": {
      "provenance": [],
      "authorship_tag": "ABX9TyPALgVcttbDeCZnViYfFJCU",
      "include_colab_link": true
    },
    "kernelspec": {
      "name": "python3",
      "display_name": "Python 3"
    },
    "language_info": {
      "name": "python"
    }
  },
  "cells": [
    {
      "cell_type": "markdown",
      "metadata": {
        "id": "view-in-github",
        "colab_type": "text"
      },
      "source": [
        "<a href=\"https://colab.research.google.com/github/Hafsa-mohamed-Ad3n/TELCOM-CUSTOMER-CHURN/blob/main/Telecommunication_Customer_Churn.ipynb\" target=\"_parent\"><img src=\"https://colab.research.google.com/assets/colab-badge.svg\" alt=\"Open In Colab\"/></a>"
      ]
    },
    {
      "cell_type": "code",
      "execution_count": null,
      "metadata": {
        "id": "dN2EMWfkUMOw"
      },
      "outputs": [],
      "source": []
    },
    {
      "cell_type": "markdown",
      "source": [
        "# **Telecom Customer Churn**"
      ],
      "metadata": {
        "id": "uVTC8NuxUUpX"
      }
    },
    {
      "cell_type": "code",
      "source": [],
      "metadata": {
        "id": "3eSk269NUXtq"
      },
      "execution_count": null,
      "outputs": []
    },
    {
      "cell_type": "markdown",
      "source": [
        "*** Problem Statement:***\n",
        "\n",
        "Churn, or customer attrition, refers to the likelihood of customers discontinuing a subscription service and choosing a competitor's offering.\n",
        "\n",
        "In the telecommunications sector, the threat of customer churn poses a significant risk to the sustainability of businesses.\n",
        "\n",
        "This problem statement seeks to provide stakeholders with a comprehensive understanding of customer churn, delving into customer behavior to unravel the intricate factors contributing to attrition.\n",
        "\n",
        "The analysis will assess customer interactions, and usage patterns to pinpoint the root causes of churn.\n",
        "\n",
        "Stakeholders will acquire practical insights to strategically address customer concerns and adapt services to meet changing consumer needs.\n",
        "\n",
        "The objective extends beyond merely reducing churn rates; it also involves maximizing customer loyalty to establish a robust presence in the competitive telecommunications market.\n",
        "\n",
        "By adopting a comprehensive approach, businesses can proactively shape customer experiences, thereby strengthening their market position."
      ],
      "metadata": {
        "id": "TCZPekCWUggz"
      }
    },
    {
      "cell_type": "code",
      "source": [],
      "metadata": {
        "id": "HVM93AGCUkHj"
      },
      "execution_count": null,
      "outputs": []
    },
    {
      "cell_type": "markdown",
      "source": [
        "**OBJECTIVES**\n",
        "1. To Predict Customer Churn\n",
        "2. Factors Affecting Customer Churn\n",
        "3. What are the most proffitable Service type\n",
        "4. Amount lost in Revenue as a result of Churning"
      ],
      "metadata": {
        "id": "Ss4EsaClUoPS"
      }
    },
    {
      "cell_type": "code",
      "source": [],
      "metadata": {
        "id": "4BpWUlyKUxCR"
      },
      "execution_count": null,
      "outputs": []
    },
    {
      "cell_type": "markdown",
      "source": [
        "**Variable Description**\n",
        "\n",
        "\n",
        "**Basic Demographics:**\n",
        "\n",
        "customerID: Unique identifier for each customer.\n",
        "gender: Customer's gender.\n",
        "SeniorCitizen: Binary variable indicating whether the customer is a senior citizen (1) or not (0).\n",
        "Partner: Indicates whether the customer has a partner or not.\n",
        "Dependents: Indicates whether the customer has dependents or not.\n",
        "\n",
        "\n",
        "**Services:**\n",
        "\n",
        "\n",
        "PhoneService: Indicates whether the customer has a phone service or not.\n",
        "MultipleLines: Categorical variable indicating whether the customer has multiple lines.\n",
        "InternetService: Categorical variable indicating the type of internet service the customer has.\n",
        "OnlineSecurity: Categorical variable indicating whether the customer has online security.\n",
        "OnlineBackup: Categorical variable indicating whether the customer has online backup.\n",
        "DeviceProtection: Categorical variable indicating whether the customer has device protection.\n",
        "TechSupport: Categorical variable indicating whether the customer has tech support.\n",
        "StreamingTV: Categorical variable indicating whether the customer has streaming TV.\n",
        "StreamingMovies: Categorical variable indicating whether the customer has streaming movies.\n",
        "\n",
        "\n",
        "**Contract and Billing:**\n",
        "\n",
        "Contract: Categorical variable indicating the type of contract the customer has.\n",
        "PaperlessBilling: Indicates whether the customer uses paperless billing (1) or not (0).\n",
        "PaymentMethod: Categorical variable indicating the type of payment method used by the customer.\n",
        "\n",
        "\n",
        "**Churn:**\n",
        "\n",
        "Churn: Indicates whether the customer churned (Yes-1) or not (No-0).\n",
        "\n",
        "\n",
        "**Financial and Usage:**\n",
        "\n",
        "tenure: The number of months the customer has been with the company (numerical).\n",
        "MonthlyCharges: The amount charged to the customer per month (numerical).\n",
        "TotalCharges: The total amount charged to the customer over the entire tenure (numerical)."
      ],
      "metadata": {
        "id": "nJv3KNiwVMu4"
      }
    },
    {
      "cell_type": "markdown",
      "source": [],
      "metadata": {
        "id": "fus6BG6sVL6a"
      }
    },
    {
      "cell_type": "markdown",
      "source": [
        "# New Section"
      ],
      "metadata": {
        "id": "cziElWLXUzi2"
      }
    }
  ]
}